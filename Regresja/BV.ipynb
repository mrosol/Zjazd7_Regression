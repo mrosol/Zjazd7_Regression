{
 "cells": [
  {
   "cell_type": "code",
   "execution_count": 1,
   "metadata": {},
   "outputs": [],
   "source": [
    "import numpy as np\n",
    "import matplotlib.pyplot as plt\n",
    "from sklearn import model_selection\n",
    "from sklearn.linear_model import LinearRegression\n",
    "from sklearn.pipeline import make_pipeline\n",
    "from sklearn.preprocessing import PolynomialFeatures"
   ]
  },
  {
   "cell_type": "markdown",
   "metadata": {},
   "source": [
    "## Bias-variance tradeoff (bias-variance dillema)"
   ]
  },
  {
   "cell_type": "markdown",
   "metadata": {},
   "source": [
    "W idealnym świecie mielibyśmy dostęp do procesu generowania danych i moglibyśmy znaleźć optymalny model (a przynajmniej wybrać stopień wielomianu w regresji liniowej) oraz oszacować jego bias i variance.\n",
    "\n",
    "- Napisz kod, który dla ustalonego stopnia wielomianu ($K$) liczy bias, variance oraz MSE tego modelu (wielkości te estymujemy podobnie jak w ćwiczeniu 0.).\n",
    "- Dla jakich wartości $K$ można powiedzieć że mamy model \"High variance/low bias\"?\n",
    "- Jaka wartość $K$ daje minimum błędu MSE?\n",
    "\n",
    "Uwagi/wskazówki:\n",
    "- Proszę użyć zakresu K od 0 do 10 (nie od 0 do 15 jak na obrazku)\n",
    "- Proszę użyć zbioru testowego o rozmiarze 100. Zbiór testowy powinien być pobrany bez szumu (z użyciem funkcji \"f\")\n",
    "- Potrzebne wzory można znaleźć też w Bishop - Pattern recognition and Machine Learning, str. 151, 3.45, 3.46, 3.47. Tutaj dla wygody je kopiujemy:\n",
    "$L$ - liczba różnych zbiorów trenujących \n",
    "$N$ - liczba przykładów w zbiorze testującym \n",
    "$h(x_{n})$ - wartość prawdziwa \n",
    "$$ \\overline{y}(x) = \\frac{1}{N} \\sum_{l=1}^{L} y^{(l)}(x) $$$$ bias^2 = \\frac{1}{N} \\sum_{n=1}^{N} \\{ \\overline{y}(x_{n}) - h(x_{n})   \\}^{2}  $$$$ variance = \\frac{1}{N} \\sum_{n=1}^{N} \\frac{1}{L} \\sum_{l=1}^{L} \\{ y^{(l)}(x_n) - \\overline{y}(x_{n}) \\}^{2} $$\n",
    "\n",
    "- Proszę użyc zbiorów trenujących (do uczenia $y^{(l)}$) o rozmiarze 20. Proszę wytrenować $N=200$ takich funkcji.\n",
    "- MSE proszę policzyć \"empirycznie\", czyli dla każdego K wykonując:"
   ]
  },
  {
   "cell_type": "code",
   "execution_count": 2,
   "metadata": {},
   "outputs": [
    {
     "data": {
      "image/png": "[encoded data removed]",
      "text/plain": [
       "<Figure size 432x288 with 1 Axes>"
      ]
     },
     "metadata": {
      "needs_background": "light"
     },
     "output_type": "display_data"
    }
   ],
   "source": [
    "size_train = 20\n",
    "size_test = 100\n",
    "iterations = 200\n",
    "degree = 10\n",
    "\n",
    "bias = np.zeros(degree)\n",
    "mse = np.zeros(degree)\n",
    "var = np.zeros(degree)\n",
    "\n",
    "\n",
    "\n",
    "for k in range(0, degree):# k - degree of polinominal\n",
    "    models = []\n",
    "    y = []\n",
    "    p_y = []\n",
    "    p_y_mean = np.zeros(size_test)\n",
    "    y_mean = np.zeros(size_test)\n",
    "  \n",
    "    for i in range(iterations):       \n",
    "        x_train = np.linspace(0, 4.5, size_train)\n",
    "        y_train = 2 * np.sin(x_train * 1.5)+ np.random.randn(size_train)\n",
    "        x_train = np.vstack(x_train)\n",
    "        \n",
    "        model = make_pipeline(PolynomialFeatures(k), LinearRegression())\n",
    "        models.append(model)\n",
    "        model.fit(x_train, y_train)\n",
    "        \n",
    "        x_test = np.linspace(0, 4.5, size_test)\n",
    "        y_test = 2 * np.sin(x_test * 1.5)\n",
    "        x_test = np.vstack(x_test)\n",
    "        y.append(y_test)\n",
    "        p_y.append(model.predict(x_test))\n",
    "        p_y_mean += p_y[i]/iterations\n",
    "        y_mean += y_test/iterations\n",
    "    \n",
    "    for i in range(iterations):\n",
    "        mse[k] += sum((y[i]-p_y[i])**2) / (iterations * size_test)\n",
    "        var[k] += sum((p_y[i]-p_y_mean)**2) / (iterations * size_test)\n",
    "    bias[k] = sum((p_y_mean-y_test)**2/size_test)\n",
    "    \n",
    "plt.plot(bias, label = \"bias^2\")\n",
    "plt.plot(var, label = \"variance\")\n",
    "plt.plot(mse, label = \"error\")\n",
    "\n",
    "\n",
    "plt.legend()\n",
    "plt.show()"
   ]
  },
  {
   "cell_type": "code",
   "execution_count": null,
   "metadata": {
    "collapsed": true
   },
   "outputs": [],
   "source": []
  }
 ],
 "metadata": {
  "kernelspec": {
   "display_name": "Python 3",
   "language": "python",
   "name": "python3"
  },
  "language_info": {
   "codemirror_mode": {
    "name": "ipython",
    "version": 3
   },
   "file_extension": ".py",
   "mimetype": "text/x-python",
   "name": "python",
   "nbconvert_exporter": "python",
   "pygments_lexer": "ipython3",
   "version": "3.7.6"
  }
 },
 "nbformat": 4,
 "nbformat_minor": 2
}
