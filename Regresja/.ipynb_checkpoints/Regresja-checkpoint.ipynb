{
 "cells": [
  {
   "cell_type": "code",
   "execution_count": null,
   "metadata": {},
   "outputs": [],
   "source": [
    "import numpy as np\n",
    "import matplotlib.pyplot as plt\n",
    "import pandas as pd\n",
    "import seaborn as sns\n",
    "from scipy import stats\n",
    "from sklearn import linear_model\n",
    "import sklearn.linear_model as lm\n",
    "import scipy"
   ]
  },
  {
   "cell_type": "code",
   "execution_count": null,
   "metadata": {},
   "outputs": [],
   "source": [
    "# Załadowanie danych\n",
    "data = pd.read_csv('C:\\\\Users\\\\mroso\\\\Desktop\\\\Bootcamp Sages\\\\Zjazd 7 - statystyka cz.2 regresja liniowa cz.1\\\\Regresja\\\\train.csv')\n",
    "data_train = data.iloc[:1000,:]\n",
    "data_test = data.iloc[1000:,:]"
   ]
  },
  {
   "cell_type": "code",
   "execution_count": null,
   "metadata": {},
   "outputs": [],
   "source": [
    "data_train.head()"
   ]
  },
  {
   "cell_type": "code",
   "execution_count": null,
   "metadata": {},
   "outputs": [],
   "source": [
    "# Przykładowe wykresy zależności ceny od innych cech\n",
    "plt.plot(data_train['GrLivArea'],data_train['SalePrice'],'o')\n",
    "plt.xlabel('GrLivArea')\n",
    "plt.ylabel('SalePrice')"
   ]
  },
  {
   "cell_type": "code",
   "execution_count": null,
   "metadata": {},
   "outputs": [],
   "source": [
    "plt.plot(data_train['LotArea'],data_train['SalePrice'],'o')\n",
    "plt.xlabel('LotArea')\n",
    "plt.ylabel('SalePrice')"
   ]
  },
  {
   "cell_type": "code",
   "execution_count": null,
   "metadata": {},
   "outputs": [],
   "source": [
    "#Wykres macierzu koreclacji \n",
    "corrmat = data_train.corr()\n",
    "f, ax = plt.subplots(figsize=(12, 9))\n",
    "sns.heatmap(corrmat, vmax=.8, square=True);"
   ]
  },
  {
   "cell_type": "code",
   "execution_count": null,
   "metadata": {},
   "outputs": [],
   "source": [
    "# Heatmapa 10 cech najbardziej skorelowanych z ceną\n",
    "k = 11 # 11 bo to uwzględnia też samą cenę \n",
    "cols = corrmat.nlargest(k, 'SalePrice')['SalePrice'].index\n",
    "cm = np.corrcoef(data_train[cols].values.T)\n",
    "plt.figure(figsize=(10,10))\n",
    "hm = sns.heatmap(cm, cbar=True, annot=True, square=True, fmt='.2f', annot_kws={'size': 10}, yticklabels=cols.values, xticklabels=cols.values)\n",
    "plt.show()"
   ]
  },
  {
   "cell_type": "code",
   "execution_count": null,
   "metadata": {},
   "outputs": [],
   "source": [
    "# Pairplot 10 najbardziej skorelowanych z ceną cech\n",
    "sns.pairplot(data[cols], size = 2.5)\n",
    "plt.show();"
   ]
  },
  {
   "cell_type": "code",
   "execution_count": null,
   "metadata": {},
   "outputs": [],
   "source": [
    "# Wybranie wyłącznie tych 10 cech\n",
    "final_data = data_train[cols]\n",
    "final_data = final_data.fillna(0)\n",
    "np.any(final_data.isnull())"
   ]
  },
  {
   "cell_type": "markdown",
   "metadata": {},
   "source": [
    "Uzupełnij kod, tak aby otrzymać parametry modelu"
   ]
  },
  {
   "cell_type": "code",
   "execution_count": null,
   "metadata": {},
   "outputs": [],
   "source": [
    "x = ... # zmienna objaśniająca\n",
    "y = ...  # zmienna objaśniana\n",
    "M1 = np.column_stack( ... ) \n",
    "p1 = np.linalg.lstsq(M1, y, rcond=None) # least-squares solution to a linear matrix equation"
   ]
  },
  {
   "cell_type": "markdown",
   "metadata": {},
   "source": [
    "Napisz funkcję, która będzie obliczała wartość ceny mieszkania na postawie wyliczonych parametrów"
   ]
  },
  {
   "cell_type": "code",
   "execution_count": null,
   "metadata": {},
   "outputs": [],
   "source": [
    "f_lr_1 = lambda x: ..."
   ]
  },
  {
   "cell_type": "markdown",
   "metadata": {},
   "source": [
    "Oblicz przewidziane wartości i sporządź wykres y_pred od y z uwzględniem prostej f(x)=x"
   ]
  },
  {
   "cell_type": "code",
   "execution_count": null,
   "metadata": {},
   "outputs": [],
   "source": []
  },
  {
   "cell_type": "markdown",
   "metadata": {},
   "source": [
    "Sporządź wykres błędu predykcji od wartości dopasowanych"
   ]
  },
  {
   "cell_type": "code",
   "execution_count": null,
   "metadata": {},
   "outputs": [],
   "source": []
  },
  {
   "cell_type": "code",
   "execution_count": null,
   "metadata": {},
   "outputs": [],
   "source": [
    "# transform training data & save lambda value \n",
    "from scipy.stats import norm\n",
    "y1, fitted_lambda = stats.boxcox(y)\n",
    "  \n",
    "# creating axes to draw plots \n",
    "fig, ax = plt.subplots(1, 2, figsize=[10,5]) \n",
    "  \n",
    "# plotting the original data(non-normal) and  \n",
    "# fitted data (normal) \n",
    "sns.distplot(y, hist = False, kde = True, \n",
    "            kde_kws = {'shade': True, 'linewidth': 2},  \n",
    "            color =\"green\", ax = ax[0],fit = norm) \n",
    "  \n",
    "sns.distplot(y1, hist = False, kde = True, \n",
    "            kde_kws = {'shade': True, 'linewidth': 2},  \n",
    "            color =\"green\", ax = ax[1], fit = norm) \n"
   ]
  },
  {
   "cell_type": "markdown",
   "metadata": {},
   "source": [
    "Oblicz współczynniki dla modelu regresji wartości y1 oraz utwórz funkcję, która będzie wyliczała wartość y1 przy użyciu wyliczonch parametrów."
   ]
  },
  {
   "cell_type": "code",
   "execution_count": null,
   "metadata": {},
   "outputs": [],
   "source": [
    "p2 = ..."
   ]
  },
  {
   "cell_type": "code",
   "execution_count": null,
   "metadata": {},
   "outputs": [],
   "source": [
    "f_lr_2 = lambda x: ..."
   ]
  },
  {
   "cell_type": "markdown",
   "metadata": {},
   "source": [
    "Oblicz przewidziane wartości i sporządź wykres y_pred1 od y1 z uwzględniem prostej f(x)=x"
   ]
  },
  {
   "cell_type": "code",
   "execution_count": null,
   "metadata": {},
   "outputs": [],
   "source": [
    "y_pred1 = ...\n"
   ]
  },
  {
   "cell_type": "markdown",
   "metadata": {},
   "source": [
    "Dokonujemy odwrotnej transformaty, aby otrzymac wartości cen w $"
   ]
  },
  {
   "cell_type": "code",
   "execution_count": null,
   "metadata": {},
   "outputs": [],
   "source": [
    "y_pred1 = scipy.special.inv_boxcox(y_pred1,fitted_lambda)"
   ]
  },
  {
   "cell_type": "markdown",
   "metadata": {},
   "source": [
    "Sporządź wykres y_pred1 od y1 z uwzględniem prostej f(x)=x"
   ]
  },
  {
   "cell_type": "code",
   "execution_count": null,
   "metadata": {},
   "outputs": [],
   "source": []
  },
  {
   "cell_type": "markdown",
   "metadata": {},
   "source": [
    "Sporządź wykres błędu predykcji od wartości dopasowanych"
   ]
  },
  {
   "cell_type": "code",
   "execution_count": null,
   "metadata": {},
   "outputs": [],
   "source": []
  },
  {
   "cell_type": "markdown",
   "metadata": {},
   "source": [
    "Policz błędy dla obu modeli:\n",
    "\n",
    "- Mean Absolute Eroor\n",
    "- Mean Squared Error\n",
    "- Median Absolute Error"
   ]
  },
  {
   "cell_type": "code",
   "execution_count": null,
   "metadata": {},
   "outputs": [],
   "source": []
  },
  {
   "cell_type": "code",
   "execution_count": null,
   "metadata": {},
   "outputs": [],
   "source": [
    "from sklearn import  metrics\n",
    "print(\"Mean absolute errors model 1: {}\".format(metrics.mean_absolute_error(y, y_pred)))\n",
    "print(\"Mean absolute errors model 2: {}\".format(metrics.mean_absolute_error(y, y_pred1)))\n",
    "print(\"Mean squared error model 1: {}\".format( metrics.mean_squared_error(y, y_pred) ))\n",
    "print(\"Mean squared error model 2: {}\".format( metrics.mean_squared_error(y, y_pred1) ))\n",
    "print(\"Median absolute error model 1: {}\".format( metrics.median_absolute_error(y, y_pred) ))\n",
    "print(\"Median absolute error model 2: {}\".format( metrics.median_absolute_error(y, y_pred1) ))"
   ]
  },
  {
   "cell_type": "code",
   "execution_count": null,
   "metadata": {},
   "outputs": [],
   "source": [
    "final_data_test = data_test[cols]\n",
    "final_data_test = final_data_test.fillna(0)\n",
    "np.any(final_data_test.isnull())"
   ]
  },
  {
   "cell_type": "code",
   "execution_count": null,
   "metadata": {},
   "outputs": [],
   "source": [
    "x_test = np.array(final_data_test.iloc[:,1:])\n",
    "y_test = final_data_test.iloc[:,0]"
   ]
  },
  {
   "cell_type": "markdown",
   "metadata": {},
   "source": [
    "Oblicz wartości przewidziane przez model 1 dla danych testowych i sporządź wykres y_pred_test od y_test"
   ]
  },
  {
   "cell_type": "code",
   "execution_count": null,
   "metadata": {},
   "outputs": [],
   "source": [
    "y_pred_test = ..."
   ]
  },
  {
   "cell_type": "markdown",
   "metadata": {},
   "source": [
    "Oblicz wartości przewidziane przez model 2 dla danych testowych i sporządź wykres y_pred_test od y_test"
   ]
  },
  {
   "cell_type": "code",
   "execution_count": null,
   "metadata": {},
   "outputs": [],
   "source": [
    "y_pred_test1 = "
   ]
  },
  {
   "cell_type": "markdown",
   "metadata": {},
   "source": [
    "Policz błędy dla danych testowych dla obu modeli:\n",
    "\n",
    "- Mean Absolute Eroor\n",
    "- Mean Squared Error\n",
    "- Median Absolute Error"
   ]
  },
  {
   "cell_type": "code",
   "execution_count": null,
   "metadata": {},
   "outputs": [],
   "source": []
  },
  {
   "cell_type": "code",
   "execution_count": null,
   "metadata": {},
   "outputs": [],
   "source": [
    "print(\"Mean absolute errors model 1: {}\".format(metrics.mean_absolute_error(y_test, y_pred_test)))\n",
    "print(\"Mean absolute errors model 2: {}\".format(metrics.mean_absolute_error(y_test, y_pred_test1)))\n",
    "print(\"Mean squared error model 1: {}\".format( metrics.mean_squared_error(y_test, y_pred_test) ))\n",
    "print(\"Mean squared error model 2: {}\".format( metrics.mean_squared_error(y_test, y_pred_test1) ))\n",
    "print(\"Median absolute error model 1: {}\".format( metrics.median_absolute_error(y_test, y_pred_test) ))\n",
    "print(\"Median absolute error model 2: {}\".format( metrics.median_absolute_error(y_test, y_pred_test1) ))"
   ]
  },
  {
   "cell_type": "code",
   "execution_count": null,
   "metadata": {},
   "outputs": [],
   "source": []
  }
 ],
 "metadata": {
  "kernelspec": {
   "display_name": "Python 3",
   "language": "python",
   "name": "python3"
  },
  "language_info": {
   "codemirror_mode": {
    "name": "ipython",
    "version": 3
   },
   "file_extension": ".py",
   "mimetype": "text/x-python",
   "name": "python",
   "nbconvert_exporter": "python",
   "pygments_lexer": "ipython3",
   "version": "3.7.6"
  }
 },
 "nbformat": 4,
 "nbformat_minor": 4
}
