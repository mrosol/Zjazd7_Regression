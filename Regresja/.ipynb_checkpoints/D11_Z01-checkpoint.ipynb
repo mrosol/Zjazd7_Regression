{
 "cells": [
  {
   "cell_type": "markdown",
   "metadata": {},
   "source": [
    "# Regresja liniowa i wielomianowa"
   ]
  },
  {
   "cell_type": "code",
   "execution_count": null,
   "metadata": {},
   "outputs": [],
   "source": [
    "import numpy as np\n",
    "import pandas as pd\n",
    "import scipy.stats as stats\n",
    "import sklearn.linear_model as lm\n",
    "from sklearn import datasets, linear_model\n",
    "import sklearn.linear_model as lm\n",
    "import matplotlib.pyplot as plt"
   ]
  },
  {
   "cell_type": "markdown",
   "metadata": {},
   "source": [
    "Proszę narysować wykres dowolnej funkcji na odcinku $[0,3]$.\n",
    "\n",
    "Będzie to model, który będziemy chcieli znaleźć."
   ]
  },
  {
   "cell_type": "code",
   "execution_count": null,
   "metadata": {},
   "outputs": [],
   "source": [
    "f = lambda x: ((x*2-1)*(x**2-2)*(x-2)+3)\n",
    "x_tr = np.linspace(0, 3, 200)\n",
    "y_tr = f(x_tr)\n",
    "plt.figure(figsize=(6,6));\n",
    "axes = plt.gca()\n",
    "axes.set_xlim([0,3])\n",
    "axes.set_ylim([0,20])\n",
    "plt.plot(x_tr[:200], y_tr[:200], '--k');\n",
    "plt.show()"
   ]
  },
  {
   "cell_type": "markdown",
   "metadata": {},
   "source": [
    "Proszę wylosować kilka punktów z otoczenia funkcji $f(x)$.\n",
    "\n",
    "Na ich podstawie będziemy wykonywać naszej presykcji."
   ]
  },
  {
   "cell_type": "code",
   "execution_count": null,
   "metadata": {},
   "outputs": [],
   "source": [
    "np.random.seed(10)\n",
    "x = stats.uniform(0,3).rvs(100)\n",
    "y = f(x) + stats.norm(0,0.2).rvs(len(x))\n",
    "plt.figure(figsize=(6,6));\n",
    "axes = plt.gca()\n",
    "axes.set_xlim([0,3])\n",
    "axes.set_ylim([0,20])\n",
    "plt.plot(x_tr, y_tr, '--k');\n",
    "plt.plot(x, y, 'ok', ms=10);\n",
    "plt.show()"
   ]
  },
  {
   "cell_type": "markdown",
   "metadata": {},
   "source": [
    "Nauczmy prosty model regresji liniowej\n",
    "\n",
    "$$\n",
    "y=a\\cdot x + b\n",
    "$$\n",
    "\n",
    "na naszych danych.\n",
    "\n",
    "Oraz narysujmy prostą regresji.\n",
    "My narazie urzyjemy metody opartej na rozwiązaniu układu równań liniowych."
   ]
  },
  {
   "cell_type": "code",
   "execution_count": null,
   "metadata": {},
   "outputs": [],
   "source": [
    "x=np.vstack(x)\n",
    "model1 = linear_model.LinearRegression()\n",
    "model1.fit(x, y)"
   ]
  },
  {
   "cell_type": "code",
   "execution_count": null,
   "metadata": {},
   "outputs": [],
   "source": [
    "print(model1.coef_)\n",
    "print(model1.intercept_)\n",
    "print(model1.score(x,y))"
   ]
  },
  {
   "cell_type": "code",
   "execution_count": null,
   "metadata": {},
   "outputs": [],
   "source": [
    "# Plot outputs\n",
    "plt.figure(figsize=(6,6));\n",
    "axes = plt.gca()\n",
    "axes.set_xlim([0,3])\n",
    "axes.set_ylim([0,8])\n",
    "plt.scatter(x, y,  color='black')\n",
    "plt.plot(x, model1.predict(x), color='blue',linewidth=3)\n",
    "plt.show()"
   ]
  },
  {
   "cell_type": "markdown",
   "metadata": {},
   "source": [
    "# Zadanie\n",
    "Nauczmy prosty model regresji\n",
    "\n",
    "$$\n",
    "y=a_1\\cdot x + a_2 \\cdot x^2 + b\n",
    "$$\n",
    "\n",
    "na naszych danych.\n",
    "\n",
    "Oraz narysujmy prostą regresji."
   ]
  },
  {
   "cell_type": "code",
   "execution_count": null,
   "metadata": {},
   "outputs": [],
   "source": [
    "from sklearn.preprocessing import PolynomialFeatures\n",
    "from sklearn.pipeline import make_pipeline"
   ]
  },
  {
   "cell_type": "code",
   "execution_count": null,
   "metadata": {},
   "outputs": [],
   "source": [
    "model2 = make_pipeline(PolynomialFeatures(2), linear_model.LinearRegression())\n",
    "model2.fit(x, y)"
   ]
  },
  {
   "cell_type": "code",
   "execution_count": null,
   "metadata": {},
   "outputs": [],
   "source": [
    "# Plot outputs\n",
    "plt.figure(figsize=(6,6));\n",
    "axes = plt.gca()\n",
    "axes.set_xlim([0,3])\n",
    "axes.set_ylim([0,8])\n",
    "plt.scatter(x, y,  color='black')\n",
    "x_plot = np.vstack(np.linspace(0, 10, 100))\n",
    "plt.plot(x_plot, model2.predict(x_plot), color='blue',linewidth=3)\n",
    "plt.show()"
   ]
  },
  {
   "cell_type": "markdown",
   "metadata": {},
   "source": [
    "# Zadanie\n",
    "Nauczmy prosty model regresji\n",
    "\n",
    "$$\n",
    "y=a_1\\cdot x + a_2 \\cdot x^2 + a_3 \\cdot x ^3 + b\n",
    "$$\n",
    "\n",
    "na naszych danych.\n",
    "\n",
    "Oraz narysujmy prostą regresji."
   ]
  },
  {
   "cell_type": "code",
   "execution_count": null,
   "metadata": {},
   "outputs": [],
   "source": []
  },
  {
   "cell_type": "markdown",
   "metadata": {},
   "source": [
    "# Zadanie\n",
    "Nauczmy prosty model regresji\n",
    "\n",
    "$$\n",
    "y=a_1\\cdot x + a_2 \\cdot x^2 + a_3 \\cdot x ^3 + a_4 \\cdot x ^4 + b\n",
    "$$\n",
    "\n",
    "na naszych danych.\n",
    "\n",
    "Oraz narysujmy prostą regresji."
   ]
  },
  {
   "cell_type": "code",
   "execution_count": null,
   "metadata": {},
   "outputs": [],
   "source": []
  },
  {
   "cell_type": "markdown",
   "metadata": {},
   "source": [
    "# Zadanie\n",
    "Nauczmy prosty model regresji\n",
    "\n",
    "$$\n",
    "y=a_1\\cdot x + a_2 \\cdot x^2 + a_3 \\cdot x ^3 + a_4 \\cdot x ^4 + a_5 \\cdot x^5 + b\n",
    "$$\n",
    "\n",
    "na naszych danych.\n",
    "\n",
    "Oraz narysujmy prostą regresji."
   ]
  },
  {
   "cell_type": "code",
   "execution_count": null,
   "metadata": {},
   "outputs": [],
   "source": []
  },
  {
   "cell_type": "markdown",
   "metadata": {},
   "source": [
    "# Zadanie\n",
    "Narysuj wszystkie wyniki na jednym wykresie.\n",
    "\n",
    "## Która z krzywych jest najleprza?"
   ]
  },
  {
   "cell_type": "code",
   "execution_count": null,
   "metadata": {},
   "outputs": [],
   "source": [
    "plt.figure(figsize=(6,6));\n",
    "axes = plt.gca()\n",
    "axes.set_xlim([0,3])\n",
    "axes.set_ylim([0,8])\n",
    "plt.plot(x_plot, model1.predict(x_plot), 'r');\n",
    "plt.plot(x_plot, model2.predict(x_plot), 'g');\n",
    "plt.plot(x, y, 'ok', ms=10);\n",
    "plt.show()"
   ]
  },
  {
   "cell_type": "markdown",
   "metadata": {},
   "source": [
    "# Zadanie\n",
    "Musimy mieć jakąś miarę oceny."
   ]
  },
  {
   "cell_type": "code",
   "execution_count": null,
   "metadata": {},
   "outputs": [],
   "source": [
    "from sklearn import  metrics\n",
    "\n",
    "error1 = np.average( np.abs(model1.predict(x) -y) )\n",
    "print(\"Mean absolute errors: {}\".format(error1))\n",
    "print(\"Mean absolute errors: {}\".format(metrics.mean_absolute_error(y, model1.predict(x))))\n",
    "\n",
    "error2 = np.average( (model1.predict(x) -y) **2 )\n",
    "print(\"Mean squared error: {}\".format(error2))\n",
    "print(\"Mean squared error: {}\".format( metrics.mean_squared_error(y, model1.predict(x)) ))\n",
    "\n",
    "error3 = np.median( np.abs(model1.predict(x) -y) )\n",
    "print(\"Median absolute error: {}\".format( error3 ))\n",
    "print(\"Median absolute error: {}\".format( metrics.median_absolute_error(y, model1.predict(x)) ))\n",
    "\n",
    "print(\"R^2: {}\".format(metrics.r2_score(y, model1.predict(x))))\n",
    "ss_res=np.sum( (y-model1.predict(x))**2 )\n",
    "ss_tot=np.sum( (y-np.mean(y))**2 )\n",
    "R=1-ss_res/ss_tot\n",
    "print(\"R^2: {}\".format(R))\n",
    "\n",
    "error4 = 1-np.var(y - model1.predict(x) )/np.var(y)\n",
    "print(\"Explained variance score: {}\".format( error4 ))\n",
    "print(\"Explained variance score: {}\".format( metrics.explained_variance_score(y, model1.predict(x)) ))\n"
   ]
  },
  {
   "cell_type": "markdown",
   "metadata": {},
   "source": [
    "# Zadanie\n",
    "\n",
    "Wylicz powyższe miary dla wszytkich modeli."
   ]
  },
  {
   "cell_type": "code",
   "execution_count": null,
   "metadata": {},
   "outputs": [],
   "source": [
    "regressors = {}\n",
    "regressors['model1'] =model1\n",
    "regressors['model2'] = model2\n",
    "\n",
    "for key in regressors:\n",
    "    print(key)\n",
    "    regr = regressors[key]\n",
    "    print(\"Explained variance score: {}\".format( metrics.explained_variance_score(y, regr.predict(x)) ))\n",
    "    print(\"Median absolute error: {}\".format( metrics.median_absolute_error(y, regr.predict(x)) ))\n",
    "    print(\"Mean squared error: {}\".format( metrics.mean_squared_error(y, regr.predict(x)) ))\n",
    "    print(\"Mean absolute errors: {}\".format(metrics.mean_absolute_error(y, regr.predict(x))))"
   ]
  },
  {
   "cell_type": "code",
   "execution_count": null,
   "metadata": {},
   "outputs": [],
   "source": []
  }
 ],
 "metadata": {
  "kernelspec": {
   "display_name": "Python 3",
   "language": "python",
   "name": "python3"
  },
  "language_info": {
   "codemirror_mode": {
    "name": "ipython",
    "version": 3
   },
   "file_extension": ".py",
   "mimetype": "text/x-python",
   "name": "python",
   "nbconvert_exporter": "python",
   "pygments_lexer": "ipython3",
   "version": "3.7.6"
  }
 },
 "nbformat": 4,
 "nbformat_minor": 2
}
