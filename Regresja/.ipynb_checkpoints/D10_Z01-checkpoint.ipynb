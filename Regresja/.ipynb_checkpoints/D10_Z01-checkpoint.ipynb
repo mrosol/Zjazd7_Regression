{
 "cells": [
  {
   "cell_type": "markdown",
   "metadata": {},
   "source": [
    "# Regresja liniowa"
   ]
  },
  {
   "cell_type": "code",
   "execution_count": 1,
   "metadata": {},
   "outputs": [],
   "source": [
    "import numpy as np\n",
    "import pandas as pd\n",
    "import scipy.stats as stats\n",
    "import sklearn.linear_model as lm\n",
    "import matplotlib.pyplot as plt"
   ]
  },
  {
   "cell_type": "markdown",
   "metadata": {},
   "source": [
    "Proszę narysować wykres dowolnej funkcji na odcinku $[0,3]$.\n",
    "\n",
    "Będzie to model, który będziemy chcieli znaleźć."
   ]
  },
  {
   "cell_type": "code",
   "execution_count": 2,
   "metadata": {},
   "outputs": [
    {
     "data": {
      "image/png": "[encoded data removed]",
      "text/plain": [
       "<Figure size 432x432 with 1 Axes>"
      ]
     },
     "metadata": {
      "needs_background": "light"
     },
     "output_type": "display_data"
    }
   ],
   "source": [
    "f = lambda x: ((x*2-1)*(x**2-2)*(x-2)+3)\n",
    "x_tr = np.linspace(0, 3, 200)\n",
    "y_tr = f(x_tr)\n",
    "plt.figure(figsize=(6,6));\n",
    "axes = plt.gca() \n",
    "axes.set_xlim([0,3])\n",
    "axes.set_ylim([0,20])\n",
    "plt.plot(x_tr[:200], y_tr[:200], '--k');\n",
    "plt.show()"
   ]
  },
  {
   "cell_type": "markdown",
   "metadata": {},
   "source": [
    "Proszę wylosować kilka punktów z otoczenia funkcji $f(x)$.\n",
    "\n",
    "Na ich podstawie będziemy wykonywać naszą regresję."
   ]
  },
  {
   "cell_type": "code",
   "execution_count": 3,
   "metadata": {},
   "outputs": [
    {
     "data": {
      "image/png": "[encoded data removed]",
      "text/plain": [
       "<Figure size 432x432 with 1 Axes>"
      ]
     },
     "metadata": {
      "needs_background": "light"
     },
     "output_type": "display_data"
    }
   ],
   "source": [
    "np.random.seed(10)\n",
    "x = stats.uniform(0,3).rvs(100)\n",
    "y = f(x) + stats.norm(0,0.2).rvs(len(x))\n",
    "plt.figure(figsize=(6,6));\n",
    "axes = plt.gca()\n",
    "axes.set_xlim([0,3])\n",
    "axes.set_ylim([0,20])\n",
    "plt.plot(x_tr, y_tr, '--k');\n",
    "plt.plot(x, y, 'ok', ms=10);\n",
    "plt.show()"
   ]
  },
  {
   "cell_type": "markdown",
   "metadata": {},
   "source": [
    "Nauczmy prosty model regresji liniowej\n",
    "\n",
    "$$\n",
    "y=a\\cdot x + b\n",
    "$$\n",
    "\n",
    "na naszych danych.\n",
    "\n",
    "Oraz narysujmy prostą regresji.\n",
    "My narazie urzyjemy metody opartej na rozwiązaniu układu równań liniowych."
   ]
  },
  {
   "cell_type": "code",
   "execution_count": 4,
   "metadata": {},
   "outputs": [],
   "source": [
    "M1 = np.vstack( (np.ones_like(x), x) ).T\n",
    "p1 = np.linalg.lstsq(M1, y, rcond=None)"
   ]
  },
  {
   "cell_type": "markdown",
   "metadata": {},
   "source": [
    "Definiujemy naszą funkcję regresji"
   ]
  },
  {
   "cell_type": "code",
   "execution_count": null,
   "metadata": {},
   "outputs": [],
   "source": [
    "f_lr_1 = lambda x: p1[0][1] * x +p1[0][0]"
   ]
  },
  {
   "cell_type": "code",
   "execution_count": null,
   "metadata": {},
   "outputs": [],
   "source": [
    "x_f_lr = np.linspace(0., 3, 200)\n",
    "y_f_lr = f_lr_1(x_tr)\n",
    "plt.figure(figsize=(6,6));\n",
    "axes = plt.gca()\n",
    "axes.set_xlim([0,3])\n",
    "axes.set_ylim([0,20])\n",
    "plt.plot(x_f_lr, y_f_lr, 'g');\n",
    "plt.plot(x, y, 'ok', ms=10);\n",
    "plt.show()"
   ]
  },
  {
   "cell_type": "markdown",
   "metadata": {},
   "source": [
    "# Zadanie\n",
    "Nauczmy prosty model regresji\n",
    "\n",
    "$$\n",
    "y=a_1\\cdot x + a_2 \\cdot x^2 + b\n",
    "$$\n",
    "\n",
    "na naszych danych.\n",
    "\n",
    "Oraz narysujmy prostą regresji."
   ]
  },
  {
   "cell_type": "code",
   "execution_count": null,
   "metadata": {},
   "outputs": [],
   "source": [
    "M2 = np.vstack( (np.ones_like(x), x, x**2) ).T\n",
    "p2 = np.linalg.lstsq(M2, y, rcond=None)"
   ]
  },
  {
   "cell_type": "markdown",
   "metadata": {},
   "source": [
    "Definiujemy naszą funkcję regresji"
   ]
  },
  {
   "cell_type": "code",
   "execution_count": null,
   "metadata": {},
   "outputs": [],
   "source": [
    "f_lr_2 = lambda x: p2[0][2]*pow(x,2) + p2[0][1] * x + p2[0][0] "
   ]
  },
  {
   "cell_type": "code",
   "execution_count": null,
   "metadata": {},
   "outputs": [],
   "source": [
    "x_f_lr = np.linspace(0., 3, 200)\n",
    "y_f_lr = f_lr_2(x_tr)\n",
    "plt.figure(figsize=(6,6));\n",
    "axes = plt.gca()\n",
    "axes.set_xlim([0,3])\n",
    "axes.set_ylim([0,20])\n",
    "plt.plot(x_f_lr, y_f_lr, 'g');\n",
    "plt.plot(x, y, 'ok', ms=10);\n",
    "plt.show()"
   ]
  },
  {
   "cell_type": "markdown",
   "metadata": {},
   "source": [
    "# Zadanie\n",
    "Nauczmy prosty model regresji\n",
    "\n",
    "$$\n",
    "y=a_1\\cdot x + a_2 \\cdot x^2 + a_3 \\cdot x ^3 + b\n",
    "$$\n",
    "\n",
    "na naszych danych.\n",
    "\n",
    "Oraz narysujmy prostą regresji."
   ]
  },
  {
   "cell_type": "code",
   "execution_count": null,
   "metadata": {},
   "outputs": [],
   "source": []
  },
  {
   "cell_type": "markdown",
   "metadata": {},
   "source": [
    "# Zadanie\n",
    "Nauczmy prosty model regresji\n",
    "\n",
    "$$\n",
    "y=a_1\\cdot x + a_2 \\cdot x^2 + a_3 \\cdot x ^3 + a_4 \\cdot x ^4 + b\n",
    "$$\n",
    "\n",
    "na naszych danych.\n",
    "\n",
    "Oraz narysujmy prostą regresji."
   ]
  },
  {
   "cell_type": "code",
   "execution_count": null,
   "metadata": {},
   "outputs": [],
   "source": []
  },
  {
   "cell_type": "markdown",
   "metadata": {},
   "source": [
    "# Zadanie\n",
    "Nauczmy prosty model regresji\n",
    "\n",
    "$$\n",
    "y=a_1\\cdot x + a_2 \\cdot x^2 + a_3 \\cdot x ^3 + a_4 \\cdot x ^4 + a_5 \\cdot x^5 + b\n",
    "$$\n",
    "\n",
    "na naszych danych.\n",
    "\n",
    "Oraz narysujmy prostą regresji."
   ]
  },
  {
   "cell_type": "code",
   "execution_count": null,
   "metadata": {},
   "outputs": [],
   "source": []
  },
  {
   "cell_type": "markdown",
   "metadata": {},
   "source": [
    "# Zadanie\n",
    "Nauczmy dowolny prosty model regresji na naszych danych. (Można użyć pierwiastów, potęg, exponensów, itd.)\n",
    "\n",
    "Oraz narysujmy prostą regresji."
   ]
  },
  {
   "cell_type": "code",
   "execution_count": null,
   "metadata": {},
   "outputs": [],
   "source": []
  },
  {
   "cell_type": "markdown",
   "metadata": {},
   "source": [
    "# Zadanie\n",
    "Narysuj wszystkie wyniki na jednym wykresie.\n",
    "\n",
    "## Która z krzywych jest najleprza?"
   ]
  },
  {
   "cell_type": "code",
   "execution_count": null,
   "metadata": {},
   "outputs": [],
   "source": []
  },
  {
   "cell_type": "markdown",
   "metadata": {},
   "source": [
    "# Zadanie\n",
    "Musimy mieć jakąś miarę oceny.\n",
    "\n",
    "Proszę naucz pozostałe modele i wyświetl ich podsumowanie."
   ]
  },
  {
   "cell_type": "code",
   "execution_count": null,
   "metadata": {},
   "outputs": [],
   "source": [
    "import statsmodels.api as sm\n",
    "Res1 = sm.OLS(y, M1).fit()\n",
    "Res2 = sm.OLS(y, M2).fit()"
   ]
  },
  {
   "cell_type": "code",
   "execution_count": null,
   "metadata": {},
   "outputs": [],
   "source": [
    "print(Res1.summary2())\n",
    "print(\".....................................\")\n",
    "print(\".....................................\")\n",
    "print(\".....................................\")\n",
    "print(Res2.summary2())"
   ]
  },
  {
   "cell_type": "markdown",
   "metadata": {},
   "source": [
    "# Zadanie\n",
    "Analogiczne wyniki możemy uzusklać za pomocą prostego kodu.\n",
    "\n",
    "Proszę nauczyć pozostałe modele regresji i wyświetlić ich podsumowanie"
   ]
  },
  {
   "cell_type": "code",
   "execution_count": null,
   "metadata": {},
   "outputs": [],
   "source": [
    "import statsmodels.formula.api as smf\n",
    "# Turn the data into a pandas DataFrame, so that we\n",
    "# can address them in the formulas with their name\n",
    "df = pd.DataFrame({'x':x, 'y':y})\n",
    "\n",
    "# Fit the models, and show the results\n",
    "Res1F = smf.ols('y~x', df).fit()\n",
    "Res2F = smf.ols('y ~ x+I(x**2)', df).fit()"
   ]
  },
  {
   "cell_type": "code",
   "execution_count": null,
   "metadata": {},
   "outputs": [],
   "source": [
    "print(Res1F.summary())\n",
    "print(\".....................................\")\n",
    "print(\".....................................\")\n",
    "print(\".....................................\")\n",
    "print(Res2F.summary())"
   ]
  },
  {
   "cell_type": "markdown",
   "metadata": {
    "collapsed": true
   },
   "source": [
    "# Graficzna ewaluacja modeli"
   ]
  },
  {
   "cell_type": "code",
   "execution_count": null,
   "metadata": {},
   "outputs": [],
   "source": [
    "y_f_lr_1 = f_lr_1(x)\n",
    "y_f_lr_2 = f_lr_2(x)\n",
    "y_f_lr_3 = f_lr_3(x)\n",
    "y_f_lr_4 = f_lr_4(x)\n",
    "y_f_lr_5 = f_lr_5(x)\n",
    "y_f_lr_6 = f_lr_6(x)"
   ]
  },
  {
   "cell_type": "markdown",
   "metadata": {},
   "source": [
    "# Wykres wartości przewidywanych względem prawdziwych.\n",
    "\n",
    "Proszę sporządzić wykresy dla pozostałych modeli"
   ]
  },
  {
   "cell_type": "code",
   "execution_count": null,
   "metadata": {},
   "outputs": [],
   "source": [
    "fig, ax = plt.subplots(2,3,figsize=(15,15))\n",
    "ax[0][0].plot(y, y_f_lr_1, 'o', label= \"1\")\n",
    "ax[0][0].plot(np.linspace(0,20), np.linspace(0,20), 'k')\n",
    "ax[0][0].set_xlim([0,20])\n",
    "ax[0][0].set_ylim([0,20])\n",
    "ax[0][0].set_xlabel('y')\n",
    "ax[0][0].set_ylabel('y_hat')\n",
    "\n",
    "ax[0][1].plot(y, y_f_lr_2, 'o', label= \"2\")\n",
    "ax[0][1].plot(np.linspace(0,20), np.linspace(0,20), 'k')\n",
    "ax[0][1].set_xlim([0,20])\n",
    "ax[0][1].set_ylim([0,20])\n",
    "ax[0][0].set_xlabel('y')\n",
    "ax[0][0].set_ylabel('y_hat')"
   ]
  },
  {
   "cell_type": "markdown",
   "metadata": {},
   "source": [
    "# Wykres residuów względem wartości dopasowanych\n",
    "\n",
    "Proszę sporządzić wykresy dla pozostałych modeli"
   ]
  },
  {
   "cell_type": "code",
   "execution_count": null,
   "metadata": {},
   "outputs": [],
   "source": [
    "fig, ax = plt.subplots(2,3,figsize=(15,15))\n",
    "ax[0][0].plot(y_f_lr_1, y-y_f_lr_1, 'o', label= \"1\")\n",
    "ax[0][0].plot(np.linspace(-1,20), np.zeros([50,1]), 'k')\n",
    "ax[0][0].set_xlim([-1,20])\n",
    "ax[0][0].set_ylim([-20,20])\n",
    "ax[0][0].set_xlabel('wartości predykowane')\n",
    "ax[0][0].set_ylabel('residua')\n",
    "\n",
    "ax[0][1].plot(y_f_lr_2, y - y_f_lr_2, 'o', label= \"2\")\n",
    "ax[0][1].plot(np.linspace(-1,20), np.zeros([50,1]), 'k')\n",
    "ax[0][1].set_xlim([-1,20])\n",
    "ax[0][1].set_ylim([-20,20])\n",
    "ax[0][0].set_xlabel('wartości predykowane')\n",
    "ax[0][0].set_ylabel('residua')"
   ]
  }
 ],
 "metadata": {
  "kernelspec": {
   "display_name": "Python 3",
   "language": "python",
   "name": "python3"
  },
  "language_info": {
   "codemirror_mode": {
    "name": "ipython",
    "version": 3
   },
   "file_extension": ".py",
   "mimetype": "text/x-python",
   "name": "python",
   "nbconvert_exporter": "python",
   "pygments_lexer": "ipython3",
   "version": "3.7.6"
  }
 },
 "nbformat": 4,
 "nbformat_minor": 2
}
