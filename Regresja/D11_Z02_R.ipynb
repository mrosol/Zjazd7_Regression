{
 "cells": [
  {
   "cell_type": "code",
   "execution_count": 1,
   "metadata": {},
   "outputs": [],
   "source": [
    "import numpy as np\n",
    "import pandas as pd\n",
    "import matplotlib as mpl\n",
    "import matplotlib.pyplot as plt\n",
    "import statsmodels.formula.api as sm\n",
    "from sklearn import linear_model\n",
    "from scipy import stats\n",
    "\n",
    "from sklearn.preprocessing import PolynomialFeatures\n",
    "from sklearn.pipeline import make_pipeline"
   ]
  },
  {
   "cell_type": "markdown",
   "metadata": {},
   "source": [
    "# Generalized Linear Models w Sklearn"
   ]
  },
  {
   "cell_type": "code",
   "execution_count": 7,
   "metadata": {},
   "outputs": [],
   "source": [
    "data = {'Region':['North','Yorkshire','Northeast','East_Midlands','West_Midlands','East_Anglia','Southeast','Southwest','Wales','Scotland','Northern_Ireland'],\n",
    "        'Alcohol':[6.47,6.13,6.19,4.89,5.63,4.52,5.89,4.79,5.27,6.08,4.02],\n",
    "        'Tobacco':[4.03,3.76,3.77,3.34,3.47,2.92,3.20,2.71,3.53,4.51,4.56]}\n",
    "df = pd.DataFrame(data)\n",
    "data = np.matrix(df)"
   ]
  },
  {
   "cell_type": "markdown",
   "metadata": {},
   "source": [
    "# Zadanie\n",
    "Zdefiniujmy dwa modele liniowe na danych bez ostatniego elementu i danych pełnych.\n",
    "\n",
    "Porównaj wyniki za pomocą miary $R^2$."
   ]
  },
  {
   "cell_type": "code",
   "execution_count": 8,
   "metadata": {},
   "outputs": [
    {
     "data": {
      "text/plain": [
       "LinearRegression(copy_X=True, fit_intercept=True, n_jobs=None, normalize=False)"
      ]
     },
     "execution_count": 8,
     "metadata": {},
     "output_type": "execute_result"
    }
   ],
   "source": [
    "model1 = linear_model.LinearRegression()\n",
    "model1.fit(data[:-1,2],data[:-1,1])\n",
    "\n",
    "model2 = linear_model.LinearRegression()\n",
    "model2.fit(data[:,2],data[:,1])"
   ]
  },
  {
   "cell_type": "code",
   "execution_count": 9,
   "metadata": {},
   "outputs": [
    {
     "data": {
      "image/png": "[encoded data removed]",
      "text/plain": [
       "<Figure size 432x432 with 1 Axes>"
      ]
     },
     "metadata": {
      "needs_background": "light"
     },
     "output_type": "display_data"
    }
   ],
   "source": [
    "plt.figure(figsize=(6,6));\n",
    "#axes = plt.gca()\n",
    "plt.scatter(df.iloc[:,2], df.iloc[:,1],  color='black')\n",
    "x_plot = np.vstack(np.linspace(2, 5, 100))\n",
    "plt.plot(x_plot, model1.predict(x_plot),linewidth=3)\n",
    "plt.plot(x_plot, model2.predict(x_plot),linewidth=3)\n",
    "\n",
    "#plt.axis(\"equal\")\n",
    "plt.ylim(3.7,7)\n",
    "plt.xlim(2.5,4.7)\n",
    "plt.show()"
   ]
  },
  {
   "cell_type": "code",
   "execution_count": 10,
   "metadata": {},
   "outputs": [
    {
     "name": "stdout",
     "output_type": "stream",
     "text": [
      "-67.7006134433095\n",
      "-17.79006769508196\n"
     ]
    }
   ],
   "source": [
    "print(model1.score(data[:-1,1],data[:-1,2]))\n",
    "print(model2.score(data[:,1],data[:,2]))"
   ]
  },
  {
   "cell_type": "code",
   "execution_count": null,
   "metadata": {},
   "outputs": [],
   "source": []
  }
 ],
 "metadata": {
  "kernelspec": {
   "display_name": "Python 3",
   "language": "python",
   "name": "python3"
  },
  "language_info": {
   "codemirror_mode": {
    "name": "ipython",
    "version": 3
   },
   "file_extension": ".py",
   "mimetype": "text/x-python",
   "name": "python",
   "nbconvert_exporter": "python",
   "pygments_lexer": "ipython3",
   "version": "3.7.6"
  }
 },
 "nbformat": 4,
 "nbformat_minor": 2
}
